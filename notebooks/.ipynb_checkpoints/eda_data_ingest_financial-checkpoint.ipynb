{
 "cells": [
  {
   "cell_type": "markdown",
   "id": "8fbb11f9-83d5-466f-b1ac-cc4036906793",
   "metadata": {
    "execution": {
     "iopub.execute_input": "2025-08-04T05:04:15.855846Z",
     "iopub.status.busy": "2025-08-04T05:04:15.855846Z",
     "iopub.status.idle": "2025-08-04T05:04:15.868365Z",
     "shell.execute_reply": "2025-08-04T05:04:15.868365Z",
     "shell.execute_reply.started": "2025-08-04T05:04:15.855846Z"
    }
   },
   "source": [
    "# EDA of Stock Price Data Sources\n"
   ]
  },
  {
   "cell_type": "markdown",
   "id": "5e87b417-c483-4844-989e-ffbd60054ba8",
   "metadata": {},
   "source": [
    "## Import Libraries"
   ]
  },
  {
   "cell_type": "code",
   "execution_count": 39,
   "id": "f9774458-6d9d-4d87-8d19-e20d34a29b05",
   "metadata": {
    "execution": {
     "iopub.execute_input": "2025-08-04T06:53:48.346988Z",
     "iopub.status.busy": "2025-08-04T06:53:48.345989Z",
     "iopub.status.idle": "2025-08-04T06:53:48.365616Z",
     "shell.execute_reply": "2025-08-04T06:53:48.364522Z",
     "shell.execute_reply.started": "2025-08-04T06:53:48.346988Z"
    }
   },
   "outputs": [],
   "source": [
    "## Import Libraries\n",
    "import sqlite3\n",
    "import pandas as pd\n",
    "from pandas.io import sql\n",
    "from dateutil import parser\n",
    "import yfinance as yf"
   ]
  },
  {
   "cell_type": "markdown",
   "id": "b6842862-5b18-4344-88d3-afec4429985a",
   "metadata": {},
   "source": [
    "## Load data from MacroTrends (Data Provider: NASDAQ) \n",
    "Does not take into account stock split"
   ]
  },
  {
   "cell_type": "code",
   "execution_count": 3,
   "id": "1ea6fcb0-ce7c-4c31-af87-eeaaa0ab1f01",
   "metadata": {
    "execution": {
     "iopub.execute_input": "2025-08-04T05:04:16.385633Z",
     "iopub.status.busy": "2025-08-04T05:04:16.384633Z",
     "iopub.status.idle": "2025-08-04T05:04:16.399720Z",
     "shell.execute_reply": "2025-08-04T05:04:16.399720Z",
     "shell.execute_reply.started": "2025-08-04T05:04:16.385633Z"
    }
   },
   "outputs": [],
   "source": [
    "macro_trends_df = pd.read_csv(r\"C:\\Users\\koh_k\\Downloads\\Institute of Data\\iod_capstone\\data\\MacroTrends_Data_Download_TSLA.csv\")"
   ]
  },
  {
   "cell_type": "code",
   "execution_count": 4,
   "id": "bc8c6099-87de-4146-9f57-ce1779a45e17",
   "metadata": {
    "execution": {
     "iopub.execute_input": "2025-08-04T05:04:16.400720Z",
     "iopub.status.busy": "2025-08-04T05:04:16.400720Z",
     "iopub.status.idle": "2025-08-04T05:04:16.415163Z",
     "shell.execute_reply": "2025-08-04T05:04:16.415163Z",
     "shell.execute_reply.started": "2025-08-04T05:04:16.400720Z"
    }
   },
   "outputs": [],
   "source": [
    "macro_trends_df_2019_2024= macro_trends_df.loc[2141:,:]\n",
    "macro_trends_df_2019_2024=macro_trends_df_2019_2024.reset_index(drop=True)\n",
    "macro_trends_df_2019_2024['date']=pd.to_datetime(macro_trends_df_2019_2024['date'], dayfirst=True).dt.date\n"
   ]
  },
  {
   "cell_type": "code",
   "execution_count": 5,
   "id": "a8368e0a-4162-412d-9dc8-cf206df768af",
   "metadata": {
    "execution": {
     "iopub.execute_input": "2025-08-04T05:04:16.416704Z",
     "iopub.status.busy": "2025-08-04T05:04:16.416199Z",
     "iopub.status.idle": "2025-08-04T05:04:16.431766Z",
     "shell.execute_reply": "2025-08-04T05:04:16.431766Z",
     "shell.execute_reply.started": "2025-08-04T05:04:16.416704Z"
    }
   },
   "outputs": [
    {
     "data": {
      "text/html": [
       "<div>\n",
       "<style scoped>\n",
       "    .dataframe tbody tr th:only-of-type {\n",
       "        vertical-align: middle;\n",
       "    }\n",
       "\n",
       "    .dataframe tbody tr th {\n",
       "        vertical-align: top;\n",
       "    }\n",
       "\n",
       "    .dataframe thead th {\n",
       "        text-align: right;\n",
       "    }\n",
       "</style>\n",
       "<table border=\"1\" class=\"dataframe\">\n",
       "  <thead>\n",
       "    <tr style=\"text-align: right;\">\n",
       "      <th></th>\n",
       "      <th>date</th>\n",
       "      <th>open</th>\n",
       "      <th>high</th>\n",
       "      <th>low</th>\n",
       "      <th>close</th>\n",
       "      <th>volume</th>\n",
       "    </tr>\n",
       "  </thead>\n",
       "  <tbody>\n",
       "    <tr>\n",
       "      <th>0</th>\n",
       "      <td>2018-12-31</td>\n",
       "      <td>22.5193</td>\n",
       "      <td>22.6139</td>\n",
       "      <td>21.6839</td>\n",
       "      <td>22.1866</td>\n",
       "      <td>6302332</td>\n",
       "    </tr>\n",
       "    <tr>\n",
       "      <th>1</th>\n",
       "      <td>2019-01-02</td>\n",
       "      <td>20.4066</td>\n",
       "      <td>21.0086</td>\n",
       "      <td>19.9199</td>\n",
       "      <td>20.6746</td>\n",
       "      <td>11658638</td>\n",
       "    </tr>\n",
       "    <tr>\n",
       "      <th>2</th>\n",
       "      <td>2019-01-03</td>\n",
       "      <td>20.4667</td>\n",
       "      <td>20.6267</td>\n",
       "      <td>19.8253</td>\n",
       "      <td>20.0240</td>\n",
       "      <td>6965198</td>\n",
       "    </tr>\n",
       "    <tr>\n",
       "      <th>3</th>\n",
       "      <td>2019-01-04</td>\n",
       "      <td>20.4000</td>\n",
       "      <td>21.2000</td>\n",
       "      <td>20.1820</td>\n",
       "      <td>21.1793</td>\n",
       "      <td>7394118</td>\n",
       "    </tr>\n",
       "    <tr>\n",
       "      <th>4</th>\n",
       "      <td>2019-01-07</td>\n",
       "      <td>21.4479</td>\n",
       "      <td>22.4493</td>\n",
       "      <td>21.1833</td>\n",
       "      <td>22.3306</td>\n",
       "      <td>7551218</td>\n",
       "    </tr>\n",
       "  </tbody>\n",
       "</table>\n",
       "</div>"
      ],
      "text/plain": [
       "         date     open     high      low    close    volume\n",
       "0  2018-12-31  22.5193  22.6139  21.6839  22.1866   6302332\n",
       "1  2019-01-02  20.4066  21.0086  19.9199  20.6746  11658638\n",
       "2  2019-01-03  20.4667  20.6267  19.8253  20.0240   6965198\n",
       "3  2019-01-04  20.4000  21.2000  20.1820  21.1793   7394118\n",
       "4  2019-01-07  21.4479  22.4493  21.1833  22.3306   7551218"
      ]
     },
     "execution_count": 5,
     "metadata": {},
     "output_type": "execute_result"
    }
   ],
   "source": [
    "macro_trends_df_2019_2024.head()"
   ]
  },
  {
   "cell_type": "code",
   "execution_count": 6,
   "id": "221afb2e-6fbb-4682-ba6b-1ae9b30faa8f",
   "metadata": {
    "execution": {
     "iopub.execute_input": "2025-08-04T05:04:16.433770Z",
     "iopub.status.busy": "2025-08-04T05:04:16.433770Z",
     "iopub.status.idle": "2025-08-04T05:04:16.446339Z",
     "shell.execute_reply": "2025-08-04T05:04:16.446339Z",
     "shell.execute_reply.started": "2025-08-04T05:04:16.433770Z"
    }
   },
   "outputs": [
    {
     "name": "stdout",
     "output_type": "stream",
     "text": [
      "<class 'pandas.core.frame.DataFrame'>\n",
      "RangeIndex: 1656 entries, 0 to 1655\n",
      "Data columns (total 6 columns):\n",
      " #   Column  Non-Null Count  Dtype  \n",
      "---  ------  --------------  -----  \n",
      " 0   date    1656 non-null   object \n",
      " 1   open    1656 non-null   float64\n",
      " 2   high    1656 non-null   float64\n",
      " 3   low     1656 non-null   float64\n",
      " 4   close   1656 non-null   float64\n",
      " 5   volume  1656 non-null   int64  \n",
      "dtypes: float64(4), int64(1), object(1)\n",
      "memory usage: 77.8+ KB\n"
     ]
    }
   ],
   "source": [
    "macro_trends_df_2019_2024.info()"
   ]
  },
  {
   "cell_type": "markdown",
   "id": "5693b66c-a6cb-4c2e-bc88-2a5801b0ea5c",
   "metadata": {},
   "source": [
    "### Check for days markets were closed"
   ]
  },
  {
   "cell_type": "code",
   "execution_count": 7,
   "id": "9ab8026e-7522-4369-854a-8bcfd996e1b7",
   "metadata": {
    "execution": {
     "iopub.execute_input": "2025-08-04T05:04:16.447342Z",
     "iopub.status.busy": "2025-08-04T05:04:16.447342Z",
     "iopub.status.idle": "2025-08-04T05:04:16.461633Z",
     "shell.execute_reply": "2025-08-04T05:04:16.461633Z",
     "shell.execute_reply.started": "2025-08-04T05:04:16.447342Z"
    }
   },
   "outputs": [
    {
     "name": "stdout",
     "output_type": "stream",
     "text": [
      "Number of Datapoints:\t1656\n",
      "No. Dates Markets Closed:\t750\n",
      "Dates:\tDatetimeIndex(['2019-01-01', '2019-01-05', '2019-01-06', '2019-01-12',\n",
      "               '2019-01-13', '2019-01-19', '2019-01-20', '2019-01-21',\n",
      "               '2019-01-26', '2019-01-27',\n",
      "               ...\n",
      "               '2025-06-29', '2025-07-04', '2025-07-05', '2025-07-06',\n",
      "               '2025-07-12', '2025-07-13', '2025-07-19', '2025-07-20',\n",
      "               '2025-07-26', '2025-07-27'],\n",
      "              dtype='datetime64[ns]', length=750, freq=None)\n"
     ]
    }
   ],
   "source": [
    "## There exists some days where markets close due to a variety of factors, find missing dates? \n",
    "missing_dates=pd.date_range(start = macro_trends_df_2019_2024['date'].min(), end = macro_trends_df_2019_2024['date'].max(), freq = 'D').difference(macro_trends_df_2019_2024['date'])\n",
    "print(f\"Number of Datapoints:\\t{len(macro_trends_df_2019_2024)}\\nNo. Dates Markets Closed:\\t{len(missing_dates)}\\nDates:\\t{missing_dates}\")\n"
   ]
  },
  {
   "cell_type": "code",
   "execution_count": 8,
   "id": "f9bf5320-16be-4ef6-8a11-b846e005c5f6",
   "metadata": {
    "execution": {
     "iopub.execute_input": "2025-08-04T05:04:16.462632Z",
     "iopub.status.busy": "2025-08-04T05:04:16.462632Z",
     "iopub.status.idle": "2025-08-04T05:04:16.476884Z",
     "shell.execute_reply": "2025-08-04T05:04:16.476884Z",
     "shell.execute_reply.started": "2025-08-04T05:04:16.462632Z"
    }
   },
   "outputs": [],
   "source": [
    "#conn = sqlite3.connect(\"data/news_sentiment.db\")\n",
    "#conn.close()"
   ]
  },
  {
   "cell_type": "markdown",
   "id": "9dce474e-5da8-40c0-84dd-da74d2f8c9d5",
   "metadata": {},
   "source": [
    "## Load data from Yahoo! Finance (Data Source: Heterogeneous)\n",
    "Takes into account stock splits and thus inflates volume numbers"
   ]
  },
  {
   "cell_type": "code",
   "execution_count": 9,
   "id": "a2f67cdb-67a1-4b71-b547-d651da732341",
   "metadata": {
    "execution": {
     "iopub.execute_input": "2025-08-04T05:04:16.478386Z",
     "iopub.status.busy": "2025-08-04T05:04:16.476884Z",
     "iopub.status.idle": "2025-08-04T05:04:16.491831Z",
     "shell.execute_reply": "2025-08-04T05:04:16.491831Z",
     "shell.execute_reply.started": "2025-08-04T05:04:16.478386Z"
    }
   },
   "outputs": [],
   "source": [
    "tsla=yf.Ticker(\"TSLA\")"
   ]
  },
  {
   "cell_type": "code",
   "execution_count": 10,
   "id": "798162c4-4c46-4272-92c6-f484fb1d8aad",
   "metadata": {
    "execution": {
     "iopub.execute_input": "2025-08-04T05:04:16.492832Z",
     "iopub.status.busy": "2025-08-04T05:04:16.492832Z",
     "iopub.status.idle": "2025-08-04T05:04:16.936176Z",
     "shell.execute_reply": "2025-08-04T05:04:16.936176Z",
     "shell.execute_reply.started": "2025-08-04T05:04:16.492832Z"
    }
   },
   "outputs": [],
   "source": [
    "tsla_2019_2024=tsla.history(start='2018-12-31',end='2025-07-31',interval='1d')"
   ]
  },
  {
   "cell_type": "code",
   "execution_count": 11,
   "id": "1165bb52-2698-4430-8af7-7b3396cf68e3",
   "metadata": {
    "execution": {
     "iopub.execute_input": "2025-08-04T05:04:16.937177Z",
     "iopub.status.busy": "2025-08-04T05:04:16.937177Z",
     "iopub.status.idle": "2025-08-04T05:04:16.952800Z",
     "shell.execute_reply": "2025-08-04T05:04:16.951740Z",
     "shell.execute_reply.started": "2025-08-04T05:04:16.937177Z"
    }
   },
   "outputs": [
    {
     "data": {
      "text/html": [
       "<div>\n",
       "<style scoped>\n",
       "    .dataframe tbody tr th:only-of-type {\n",
       "        vertical-align: middle;\n",
       "    }\n",
       "\n",
       "    .dataframe tbody tr th {\n",
       "        vertical-align: top;\n",
       "    }\n",
       "\n",
       "    .dataframe thead th {\n",
       "        text-align: right;\n",
       "    }\n",
       "</style>\n",
       "<table border=\"1\" class=\"dataframe\">\n",
       "  <thead>\n",
       "    <tr style=\"text-align: right;\">\n",
       "      <th></th>\n",
       "      <th>Open</th>\n",
       "      <th>High</th>\n",
       "      <th>Low</th>\n",
       "      <th>Close</th>\n",
       "      <th>Volume</th>\n",
       "      <th>Dividends</th>\n",
       "      <th>Stock Splits</th>\n",
       "    </tr>\n",
       "    <tr>\n",
       "      <th>Date</th>\n",
       "      <th></th>\n",
       "      <th></th>\n",
       "      <th></th>\n",
       "      <th></th>\n",
       "      <th></th>\n",
       "      <th></th>\n",
       "      <th></th>\n",
       "    </tr>\n",
       "  </thead>\n",
       "  <tbody>\n",
       "    <tr>\n",
       "      <th>2018-12-31 00:00:00-05:00</th>\n",
       "      <td>22.519333</td>\n",
       "      <td>22.614000</td>\n",
       "      <td>21.684000</td>\n",
       "      <td>22.186666</td>\n",
       "      <td>94534500</td>\n",
       "      <td>0.0</td>\n",
       "      <td>0.0</td>\n",
       "    </tr>\n",
       "    <tr>\n",
       "      <th>2019-01-02 00:00:00-05:00</th>\n",
       "      <td>20.406668</td>\n",
       "      <td>21.008667</td>\n",
       "      <td>19.920000</td>\n",
       "      <td>20.674667</td>\n",
       "      <td>174879000</td>\n",
       "      <td>0.0</td>\n",
       "      <td>0.0</td>\n",
       "    </tr>\n",
       "    <tr>\n",
       "      <th>2019-01-03 00:00:00-05:00</th>\n",
       "      <td>20.466667</td>\n",
       "      <td>20.626667</td>\n",
       "      <td>19.825333</td>\n",
       "      <td>20.024000</td>\n",
       "      <td>104478000</td>\n",
       "      <td>0.0</td>\n",
       "      <td>0.0</td>\n",
       "    </tr>\n",
       "    <tr>\n",
       "      <th>2019-01-04 00:00:00-05:00</th>\n",
       "      <td>20.400000</td>\n",
       "      <td>21.200001</td>\n",
       "      <td>20.181999</td>\n",
       "      <td>21.179333</td>\n",
       "      <td>110911500</td>\n",
       "      <td>0.0</td>\n",
       "      <td>0.0</td>\n",
       "    </tr>\n",
       "    <tr>\n",
       "      <th>2019-01-07 00:00:00-05:00</th>\n",
       "      <td>21.448000</td>\n",
       "      <td>22.449333</td>\n",
       "      <td>21.183332</td>\n",
       "      <td>22.330667</td>\n",
       "      <td>113268000</td>\n",
       "      <td>0.0</td>\n",
       "      <td>0.0</td>\n",
       "    </tr>\n",
       "    <tr>\n",
       "      <th>...</th>\n",
       "      <td>...</td>\n",
       "      <td>...</td>\n",
       "      <td>...</td>\n",
       "      <td>...</td>\n",
       "      <td>...</td>\n",
       "      <td>...</td>\n",
       "      <td>...</td>\n",
       "    </tr>\n",
       "    <tr>\n",
       "      <th>2025-07-24 00:00:00-04:00</th>\n",
       "      <td>310.000000</td>\n",
       "      <td>310.149994</td>\n",
       "      <td>300.410004</td>\n",
       "      <td>305.299988</td>\n",
       "      <td>156966000</td>\n",
       "      <td>0.0</td>\n",
       "      <td>0.0</td>\n",
       "    </tr>\n",
       "    <tr>\n",
       "      <th>2025-07-25 00:00:00-04:00</th>\n",
       "      <td>308.739990</td>\n",
       "      <td>323.630005</td>\n",
       "      <td>308.010010</td>\n",
       "      <td>316.059998</td>\n",
       "      <td>148227000</td>\n",
       "      <td>0.0</td>\n",
       "      <td>0.0</td>\n",
       "    </tr>\n",
       "    <tr>\n",
       "      <th>2025-07-28 00:00:00-04:00</th>\n",
       "      <td>318.450012</td>\n",
       "      <td>330.489990</td>\n",
       "      <td>315.690002</td>\n",
       "      <td>325.589996</td>\n",
       "      <td>112673800</td>\n",
       "      <td>0.0</td>\n",
       "      <td>0.0</td>\n",
       "    </tr>\n",
       "    <tr>\n",
       "      <th>2025-07-29 00:00:00-04:00</th>\n",
       "      <td>325.549988</td>\n",
       "      <td>326.250000</td>\n",
       "      <td>318.250000</td>\n",
       "      <td>321.200012</td>\n",
       "      <td>87358900</td>\n",
       "      <td>0.0</td>\n",
       "      <td>0.0</td>\n",
       "    </tr>\n",
       "    <tr>\n",
       "      <th>2025-07-30 00:00:00-04:00</th>\n",
       "      <td>322.179993</td>\n",
       "      <td>324.450012</td>\n",
       "      <td>311.619995</td>\n",
       "      <td>319.040009</td>\n",
       "      <td>83931900</td>\n",
       "      <td>0.0</td>\n",
       "      <td>0.0</td>\n",
       "    </tr>\n",
       "  </tbody>\n",
       "</table>\n",
       "<p>1654 rows × 7 columns</p>\n",
       "</div>"
      ],
      "text/plain": [
       "                                 Open        High         Low       Close  \\\n",
       "Date                                                                        \n",
       "2018-12-31 00:00:00-05:00   22.519333   22.614000   21.684000   22.186666   \n",
       "2019-01-02 00:00:00-05:00   20.406668   21.008667   19.920000   20.674667   \n",
       "2019-01-03 00:00:00-05:00   20.466667   20.626667   19.825333   20.024000   \n",
       "2019-01-04 00:00:00-05:00   20.400000   21.200001   20.181999   21.179333   \n",
       "2019-01-07 00:00:00-05:00   21.448000   22.449333   21.183332   22.330667   \n",
       "...                               ...         ...         ...         ...   \n",
       "2025-07-24 00:00:00-04:00  310.000000  310.149994  300.410004  305.299988   \n",
       "2025-07-25 00:00:00-04:00  308.739990  323.630005  308.010010  316.059998   \n",
       "2025-07-28 00:00:00-04:00  318.450012  330.489990  315.690002  325.589996   \n",
       "2025-07-29 00:00:00-04:00  325.549988  326.250000  318.250000  321.200012   \n",
       "2025-07-30 00:00:00-04:00  322.179993  324.450012  311.619995  319.040009   \n",
       "\n",
       "                              Volume  Dividends  Stock Splits  \n",
       "Date                                                           \n",
       "2018-12-31 00:00:00-05:00   94534500        0.0           0.0  \n",
       "2019-01-02 00:00:00-05:00  174879000        0.0           0.0  \n",
       "2019-01-03 00:00:00-05:00  104478000        0.0           0.0  \n",
       "2019-01-04 00:00:00-05:00  110911500        0.0           0.0  \n",
       "2019-01-07 00:00:00-05:00  113268000        0.0           0.0  \n",
       "...                              ...        ...           ...  \n",
       "2025-07-24 00:00:00-04:00  156966000        0.0           0.0  \n",
       "2025-07-25 00:00:00-04:00  148227000        0.0           0.0  \n",
       "2025-07-28 00:00:00-04:00  112673800        0.0           0.0  \n",
       "2025-07-29 00:00:00-04:00   87358900        0.0           0.0  \n",
       "2025-07-30 00:00:00-04:00   83931900        0.0           0.0  \n",
       "\n",
       "[1654 rows x 7 columns]"
      ]
     },
     "execution_count": 11,
     "metadata": {},
     "output_type": "execute_result"
    }
   ],
   "source": [
    "tsla_2019_2024"
   ]
  },
  {
   "cell_type": "markdown",
   "id": "b399f36b-63b8-4c44-8f7f-67c880a4ac72",
   "metadata": {},
   "source": [
    "### Date Time Manipulation to ensure same type as MacroTrends Dataframe"
   ]
  },
  {
   "cell_type": "code",
   "execution_count": 12,
   "id": "507c86fd-8d28-4759-972f-feb9c5f7be59",
   "metadata": {
    "execution": {
     "iopub.execute_input": "2025-08-04T05:04:16.953815Z",
     "iopub.status.busy": "2025-08-04T05:04:16.952800Z",
     "iopub.status.idle": "2025-08-04T05:04:16.966900Z",
     "shell.execute_reply": "2025-08-04T05:04:16.966900Z",
     "shell.execute_reply.started": "2025-08-04T05:04:16.953815Z"
    }
   },
   "outputs": [],
   "source": [
    "tsla_2019_2024=tsla_2019_2024.reset_index(drop=False)\n",
    "tsla_2019_2024['Date']=pd.to_datetime(tsla_2019_2024['Date'], dayfirst=True)\n",
    "tsla_2019_2024['Date']=tsla_2019_2024['Date'].dt.date\n",
    "tsla_2019_2024.rename(columns={'Date': 'date'}, inplace=True)"
   ]
  },
  {
   "cell_type": "code",
   "execution_count": 13,
   "id": "59fe5d28-efa6-4a52-8eaa-45793e8a2126",
   "metadata": {
    "execution": {
     "iopub.execute_input": "2025-08-04T05:04:16.966900Z",
     "iopub.status.busy": "2025-08-04T05:04:16.966900Z",
     "iopub.status.idle": "2025-08-04T05:04:16.981965Z",
     "shell.execute_reply": "2025-08-04T05:04:16.981965Z",
     "shell.execute_reply.started": "2025-08-04T05:04:16.966900Z"
    }
   },
   "outputs": [
    {
     "data": {
      "text/html": [
       "<div>\n",
       "<style scoped>\n",
       "    .dataframe tbody tr th:only-of-type {\n",
       "        vertical-align: middle;\n",
       "    }\n",
       "\n",
       "    .dataframe tbody tr th {\n",
       "        vertical-align: top;\n",
       "    }\n",
       "\n",
       "    .dataframe thead th {\n",
       "        text-align: right;\n",
       "    }\n",
       "</style>\n",
       "<table border=\"1\" class=\"dataframe\">\n",
       "  <thead>\n",
       "    <tr style=\"text-align: right;\">\n",
       "      <th></th>\n",
       "      <th>date</th>\n",
       "      <th>Open</th>\n",
       "      <th>High</th>\n",
       "      <th>Low</th>\n",
       "      <th>Close</th>\n",
       "      <th>Volume</th>\n",
       "      <th>Dividends</th>\n",
       "      <th>Stock Splits</th>\n",
       "    </tr>\n",
       "  </thead>\n",
       "  <tbody>\n",
       "    <tr>\n",
       "      <th>0</th>\n",
       "      <td>2018-12-31</td>\n",
       "      <td>22.519333</td>\n",
       "      <td>22.614000</td>\n",
       "      <td>21.684000</td>\n",
       "      <td>22.186666</td>\n",
       "      <td>94534500</td>\n",
       "      <td>0.0</td>\n",
       "      <td>0.0</td>\n",
       "    </tr>\n",
       "    <tr>\n",
       "      <th>1</th>\n",
       "      <td>2019-01-02</td>\n",
       "      <td>20.406668</td>\n",
       "      <td>21.008667</td>\n",
       "      <td>19.920000</td>\n",
       "      <td>20.674667</td>\n",
       "      <td>174879000</td>\n",
       "      <td>0.0</td>\n",
       "      <td>0.0</td>\n",
       "    </tr>\n",
       "    <tr>\n",
       "      <th>2</th>\n",
       "      <td>2019-01-03</td>\n",
       "      <td>20.466667</td>\n",
       "      <td>20.626667</td>\n",
       "      <td>19.825333</td>\n",
       "      <td>20.024000</td>\n",
       "      <td>104478000</td>\n",
       "      <td>0.0</td>\n",
       "      <td>0.0</td>\n",
       "    </tr>\n",
       "    <tr>\n",
       "      <th>3</th>\n",
       "      <td>2019-01-04</td>\n",
       "      <td>20.400000</td>\n",
       "      <td>21.200001</td>\n",
       "      <td>20.181999</td>\n",
       "      <td>21.179333</td>\n",
       "      <td>110911500</td>\n",
       "      <td>0.0</td>\n",
       "      <td>0.0</td>\n",
       "    </tr>\n",
       "    <tr>\n",
       "      <th>4</th>\n",
       "      <td>2019-01-07</td>\n",
       "      <td>21.448000</td>\n",
       "      <td>22.449333</td>\n",
       "      <td>21.183332</td>\n",
       "      <td>22.330667</td>\n",
       "      <td>113268000</td>\n",
       "      <td>0.0</td>\n",
       "      <td>0.0</td>\n",
       "    </tr>\n",
       "    <tr>\n",
       "      <th>...</th>\n",
       "      <td>...</td>\n",
       "      <td>...</td>\n",
       "      <td>...</td>\n",
       "      <td>...</td>\n",
       "      <td>...</td>\n",
       "      <td>...</td>\n",
       "      <td>...</td>\n",
       "      <td>...</td>\n",
       "    </tr>\n",
       "    <tr>\n",
       "      <th>1649</th>\n",
       "      <td>2025-07-24</td>\n",
       "      <td>310.000000</td>\n",
       "      <td>310.149994</td>\n",
       "      <td>300.410004</td>\n",
       "      <td>305.299988</td>\n",
       "      <td>156966000</td>\n",
       "      <td>0.0</td>\n",
       "      <td>0.0</td>\n",
       "    </tr>\n",
       "    <tr>\n",
       "      <th>1650</th>\n",
       "      <td>2025-07-25</td>\n",
       "      <td>308.739990</td>\n",
       "      <td>323.630005</td>\n",
       "      <td>308.010010</td>\n",
       "      <td>316.059998</td>\n",
       "      <td>148227000</td>\n",
       "      <td>0.0</td>\n",
       "      <td>0.0</td>\n",
       "    </tr>\n",
       "    <tr>\n",
       "      <th>1651</th>\n",
       "      <td>2025-07-28</td>\n",
       "      <td>318.450012</td>\n",
       "      <td>330.489990</td>\n",
       "      <td>315.690002</td>\n",
       "      <td>325.589996</td>\n",
       "      <td>112673800</td>\n",
       "      <td>0.0</td>\n",
       "      <td>0.0</td>\n",
       "    </tr>\n",
       "    <tr>\n",
       "      <th>1652</th>\n",
       "      <td>2025-07-29</td>\n",
       "      <td>325.549988</td>\n",
       "      <td>326.250000</td>\n",
       "      <td>318.250000</td>\n",
       "      <td>321.200012</td>\n",
       "      <td>87358900</td>\n",
       "      <td>0.0</td>\n",
       "      <td>0.0</td>\n",
       "    </tr>\n",
       "    <tr>\n",
       "      <th>1653</th>\n",
       "      <td>2025-07-30</td>\n",
       "      <td>322.179993</td>\n",
       "      <td>324.450012</td>\n",
       "      <td>311.619995</td>\n",
       "      <td>319.040009</td>\n",
       "      <td>83931900</td>\n",
       "      <td>0.0</td>\n",
       "      <td>0.0</td>\n",
       "    </tr>\n",
       "  </tbody>\n",
       "</table>\n",
       "<p>1654 rows × 8 columns</p>\n",
       "</div>"
      ],
      "text/plain": [
       "            date        Open        High         Low       Close     Volume  \\\n",
       "0     2018-12-31   22.519333   22.614000   21.684000   22.186666   94534500   \n",
       "1     2019-01-02   20.406668   21.008667   19.920000   20.674667  174879000   \n",
       "2     2019-01-03   20.466667   20.626667   19.825333   20.024000  104478000   \n",
       "3     2019-01-04   20.400000   21.200001   20.181999   21.179333  110911500   \n",
       "4     2019-01-07   21.448000   22.449333   21.183332   22.330667  113268000   \n",
       "...          ...         ...         ...         ...         ...        ...   \n",
       "1649  2025-07-24  310.000000  310.149994  300.410004  305.299988  156966000   \n",
       "1650  2025-07-25  308.739990  323.630005  308.010010  316.059998  148227000   \n",
       "1651  2025-07-28  318.450012  330.489990  315.690002  325.589996  112673800   \n",
       "1652  2025-07-29  325.549988  326.250000  318.250000  321.200012   87358900   \n",
       "1653  2025-07-30  322.179993  324.450012  311.619995  319.040009   83931900   \n",
       "\n",
       "      Dividends  Stock Splits  \n",
       "0           0.0           0.0  \n",
       "1           0.0           0.0  \n",
       "2           0.0           0.0  \n",
       "3           0.0           0.0  \n",
       "4           0.0           0.0  \n",
       "...         ...           ...  \n",
       "1649        0.0           0.0  \n",
       "1650        0.0           0.0  \n",
       "1651        0.0           0.0  \n",
       "1652        0.0           0.0  \n",
       "1653        0.0           0.0  \n",
       "\n",
       "[1654 rows x 8 columns]"
      ]
     },
     "execution_count": 13,
     "metadata": {},
     "output_type": "execute_result"
    }
   ],
   "source": [
    "tsla_2019_2024"
   ]
  },
  {
   "cell_type": "markdown",
   "id": "7541c8c4-da68-4deb-90fb-c3c4408cd9fe",
   "metadata": {},
   "source": [
    "### Check for days markets were closed (Should be the same)"
   ]
  },
  {
   "cell_type": "code",
   "execution_count": 14,
   "id": "f631d5c9-0f80-4746-a4cb-71cfdabdf1a5",
   "metadata": {
    "execution": {
     "iopub.execute_input": "2025-08-04T05:04:16.982959Z",
     "iopub.status.busy": "2025-08-04T05:04:16.982959Z",
     "iopub.status.idle": "2025-08-04T05:04:16.997718Z",
     "shell.execute_reply": "2025-08-04T05:04:16.996711Z",
     "shell.execute_reply.started": "2025-08-04T05:04:16.982959Z"
    }
   },
   "outputs": [
    {
     "name": "stdout",
     "output_type": "stream",
     "text": [
      "Number of Datapoints:\t1654\n",
      "No. Dates Markets Closed:\t750\n",
      "Dates:\tDatetimeIndex(['2019-01-01', '2019-01-05', '2019-01-06', '2019-01-12',\n",
      "               '2019-01-13', '2019-01-19', '2019-01-20', '2019-01-21',\n",
      "               '2019-01-26', '2019-01-27',\n",
      "               ...\n",
      "               '2025-06-29', '2025-07-04', '2025-07-05', '2025-07-06',\n",
      "               '2025-07-12', '2025-07-13', '2025-07-19', '2025-07-20',\n",
      "               '2025-07-26', '2025-07-27'],\n",
      "              dtype='datetime64[ns]', length=750, freq=None)\n"
     ]
    }
   ],
   "source": [
    "tsla_missing_dates=pd.date_range(start = tsla_2019_2024['date'].min(), end = tsla_2019_2024['date'].max(), freq = 'D').difference(tsla_2019_2024['date'])\n",
    "print(f\"Number of Datapoints:\\t{len(tsla_2019_2024)}\\nNo. Dates Markets Closed:\\t{len(missing_dates)}\\nDates:\\t{missing_dates}\")"
   ]
  },
  {
   "cell_type": "code",
   "execution_count": 15,
   "id": "79b4825c-1231-4b07-bffb-37da19034930",
   "metadata": {
    "execution": {
     "iopub.execute_input": "2025-08-04T05:04:16.997718Z",
     "iopub.status.busy": "2025-08-04T05:04:16.997718Z",
     "iopub.status.idle": "2025-08-04T05:04:17.012694Z",
     "shell.execute_reply": "2025-08-04T05:04:17.012694Z",
     "shell.execute_reply.started": "2025-08-04T05:04:16.997718Z"
    }
   },
   "outputs": [
    {
     "data": {
      "text/plain": [
       "datetime.date"
      ]
     },
     "execution_count": 15,
     "metadata": {},
     "output_type": "execute_result"
    }
   ],
   "source": [
    "type(macro_trends_df_2019_2024['date'][0])"
   ]
  },
  {
   "cell_type": "code",
   "execution_count": 16,
   "id": "d857b818-4628-47f6-a532-27bc60aa3876",
   "metadata": {
    "execution": {
     "iopub.execute_input": "2025-08-04T05:04:17.014779Z",
     "iopub.status.busy": "2025-08-04T05:04:17.013772Z",
     "iopub.status.idle": "2025-08-04T05:04:17.029572Z",
     "shell.execute_reply": "2025-08-04T05:04:17.028567Z",
     "shell.execute_reply.started": "2025-08-04T05:04:17.013772Z"
    }
   },
   "outputs": [
    {
     "data": {
      "text/plain": [
       "datetime.date"
      ]
     },
     "execution_count": 16,
     "metadata": {},
     "output_type": "execute_result"
    }
   ],
   "source": [
    "type(tsla_2019_2024['date'][0])"
   ]
  },
  {
   "cell_type": "markdown",
   "id": "5bddc322-d8e8-4f69-9f24-4c6b7a49a85e",
   "metadata": {},
   "source": [
    "### Discrepancies"
   ]
  },
  {
   "cell_type": "code",
   "execution_count": 17,
   "id": "3e9e4996-7afb-4c97-a2cb-bf807c3a0be3",
   "metadata": {
    "execution": {
     "iopub.execute_input": "2025-08-04T05:04:17.029572Z",
     "iopub.status.busy": "2025-08-04T05:04:17.029572Z",
     "iopub.status.idle": "2025-08-04T05:04:17.044826Z",
     "shell.execute_reply": "2025-08-04T05:04:17.043917Z",
     "shell.execute_reply.started": "2025-08-04T05:04:17.029572Z"
    }
   },
   "outputs": [
    {
     "name": "stdout",
     "output_type": "stream",
     "text": [
      "Discrepancies:\t2\n",
      "            date     open    high     low   close    volume  Open  High  Low  \\\n",
      "1654  2025-07-31  319.605  321.37  306.10  308.27  85270919   NaN   NaN  NaN   \n",
      "1655  2025-08-01  306.205  309.31  297.82  303.00  86304734   NaN   NaN  NaN   \n",
      "\n",
      "      Close  Volume  Dividends  Stock Splits     _merge  \n",
      "1654    NaN     NaN        NaN           NaN  left_only  \n",
      "1655    NaN     NaN        NaN           NaN  left_only  \n"
     ]
    }
   ],
   "source": [
    "# Find rows in df1 not in df2\n",
    "missing_in_df2 = macro_trends_df_2019_2024.merge(tsla_2019_2024, on='date', how='left', indicator=True)\n",
    "missing_rows = missing_in_df2[missing_in_df2['_merge'] == 'left_only']\n",
    "print(f\"Discrepancies:\\t{len(missing_rows)}\\n{missing_rows}\")"
   ]
  },
  {
   "cell_type": "markdown",
   "id": "300d8944-a038-41a7-b99e-1e8bc36cdced",
   "metadata": {},
   "source": [
    "#### Comments: \n",
    "Yahoo! Finance free-tier API probably not yet updated as of current time, can expect some time lag as file is run throughout project"
   ]
  },
  {
   "cell_type": "markdown",
   "id": "13e2bf00-1d80-4b85-8748-15c9eb1e12c7",
   "metadata": {},
   "source": [
    "## Further Data verification between sources"
   ]
  },
  {
   "cell_type": "code",
   "execution_count": 32,
   "id": "d17b790b-b9e9-408c-b9bc-273369ea5ac4",
   "metadata": {
    "execution": {
     "iopub.execute_input": "2025-08-04T05:24:34.572161Z",
     "iopub.status.busy": "2025-08-04T05:24:34.572161Z",
     "iopub.status.idle": "2025-08-04T05:24:34.627668Z",
     "shell.execute_reply": "2025-08-04T05:24:34.625805Z",
     "shell.execute_reply.started": "2025-08-04T05:24:34.572161Z"
    }
   },
   "outputs": [
    {
     "name": "stdout",
     "output_type": "stream",
     "text": [
      "date      2019-08-28\n",
      "open          14.246\n",
      "high         14.4834\n",
      "low           14.154\n",
      "close        14.3727\n",
      "volume       3238637\n",
      "Name: 166, dtype: object\n",
      "date            2019-08-28\n",
      "Open                14.246\n",
      "High             14.483333\n",
      "Low                 14.154\n",
      "Close            14.372667\n",
      "Volume            48382500\n",
      "Dividends              0.0\n",
      "Stock Splits           0.0\n",
      "Name: 166, dtype: object\n",
      "1.0     734\n",
      "3.0     499\n",
      "15.0    383\n",
      "14.9     20\n",
      "14.7      7\n",
      "14.8      6\n",
      "14.6      1\n",
      "7.0       1\n",
      "13.5      1\n",
      "15.2      1\n",
      "2.9       1\n",
      "Name: count, dtype: int64\n",
      "date      2025-04-02\n",
      "open           254.6\n",
      "high          284.99\n",
      "low           251.27\n",
      "close         282.76\n",
      "volume     212787812\n",
      "Name: 1572, dtype: object\n",
      "date            2025-04-02\n",
      "Open            254.600006\n",
      "High             284.98999\n",
      "Low             251.270004\n",
      "Close            282.76001\n",
      "Volume           212787800\n",
      "Dividends              0.0\n",
      "Stock Splits           0.0\n",
      "Name: 1572, dtype: object\n",
      "1.0     734\n",
      "3.0     499\n",
      "15.0    383\n",
      "14.9     20\n",
      "14.7      7\n",
      "14.8      6\n",
      "14.6      1\n",
      "7.0       1\n",
      "13.5      1\n",
      "15.2      1\n",
      "2.9       1\n",
      "Name: count, dtype: int64\n",
      "date      2023-12-06\n",
      "open          242.92\n",
      "high          246.57\n",
      "low          239.171\n",
      "close         239.37\n",
      "volume     126436203\n",
      "Name: 1242, dtype: object\n",
      "date            2023-12-06\n",
      "Open            242.919998\n",
      "High            246.570007\n",
      "Low             239.169998\n",
      "Close           239.369995\n",
      "Volume           126436200\n",
      "Dividends              0.0\n",
      "Stock Splits           0.0\n",
      "Name: 1242, dtype: object\n",
      "1.0     734\n",
      "3.0     499\n",
      "15.0    383\n",
      "14.9     20\n",
      "14.7      7\n",
      "14.8      6\n",
      "14.6      1\n",
      "7.0       1\n",
      "13.5      1\n",
      "15.2      1\n",
      "2.9       1\n",
      "Name: count, dtype: int64\n",
      "date      2024-09-20\n",
      "open          241.52\n",
      "high          243.99\n",
      "low           235.92\n",
      "close         238.25\n",
      "volume      99879070\n",
      "Name: 1440, dtype: object\n",
      "date            2024-09-20\n",
      "Open            241.520004\n",
      "High            243.990005\n",
      "Low             235.919998\n",
      "Close               238.25\n",
      "Volume            99879100\n",
      "Dividends              0.0\n",
      "Stock Splits           0.0\n",
      "Name: 1440, dtype: object\n",
      "1.0     734\n",
      "3.0     499\n",
      "15.0    383\n",
      "14.9     20\n",
      "14.7      7\n",
      "14.8      6\n",
      "14.6      1\n",
      "7.0       1\n",
      "13.5      1\n",
      "15.2      1\n",
      "2.9       1\n",
      "Name: count, dtype: int64\n",
      "date      2021-02-08\n",
      "open          289.89\n",
      "high          292.59\n",
      "low          284.916\n",
      "close        287.806\n",
      "volume      20161744\n",
      "Name: 530, dtype: object\n",
      "date            2021-02-08\n",
      "Open            289.890015\n",
      "High            292.589996\n",
      "Low             284.916656\n",
      "Close           287.806671\n",
      "Volume            60485100\n",
      "Dividends              0.0\n",
      "Stock Splits           0.0\n",
      "Name: 530, dtype: object\n",
      "1.0     734\n",
      "3.0     499\n",
      "15.0    383\n",
      "14.9     20\n",
      "14.7      7\n",
      "14.8      6\n",
      "14.6      1\n",
      "7.0       1\n",
      "13.5      1\n",
      "15.2      1\n",
      "2.9       1\n",
      "Name: count, dtype: int64\n"
     ]
    }
   ],
   "source": [
    "import random\n",
    "import matplotlib as plt\n",
    "import numpy as np\n",
    "random.seed(89)\n",
    "for i in range(5):\n",
    "    rdm_idx=random.randint(0,min(len(macro_trends_df_2019_2024),len(tsla_2019_2024)))\n",
    "    if(rdm_idx not in missing_rows.index):\n",
    "        print(macro_trends_df_2019_2024.loc[rdm_idx])\n",
    "        print(tsla_2019_2024.loc[rdm_idx])\n",
    "        ## Unit mismatch check:\n",
    "        #df=\n",
    "        volume_ratio=tsla_2019_2024['Volume'] / macro_trends_df_2019_2024['volume']\n",
    "        volume_ratio = volume_ratio.replace([np.inf, -np.inf], np.nan).dropna()\n",
    "        rounded_ratio = volume_ratio.round(1)\n",
    "        print(rounded_ratio.value_counts())\n",
    "        #rounded_ratio.hist(bins=50)\n",
    "        #plt.title(\"Distribution of Volume Ratios\")\n",
    "        #plt.xlabel(\"Volume Ratio (TSLA / MacroTrends)\")\n",
    "        #plt.ylabel(\"Frequency\")\n",
    "        #plt.show()"
   ]
  },
  {
   "cell_type": "markdown",
   "id": "0a6c13e5-888d-4b4b-813e-e26ef6bfdddb",
   "metadata": {},
   "source": [
    "### Comments:\n",
    "We can see that there are discrepancies in the sources for trading volumes on the same day. Detailed analysis suggested that Yahoo! Finance takes into account stock splits and post-hoc updates this field, leading to a larger value for values prior to 2022-08-25 and 2020-08-31.\n",
    "\n",
    "Since the sources are not identical and Yahoo! Finance is known to lag behind in data values returned, going forward, only the MacroTrends source will be used for the stock price data for the period between 2019-01-01 and 2024-12-31 for training data. Test Data will be 2025-01-01 to 2025-07-31. Validation will be 2025-08-01 to latest date when demostrating live update where applicable."
   ]
  },
  {
   "cell_type": "markdown",
   "id": "d0b06b4d-0376-495c-ad48-fba3262fa96b",
   "metadata": {},
   "source": [
    "## Save data into a RDBMS engine in this folder"
   ]
  },
  {
   "cell_type": "code",
   "execution_count": 33,
   "id": "d500f58a-09e3-4244-8825-a4c1f84c8fe4",
   "metadata": {
    "execution": {
     "iopub.execute_input": "2025-08-04T06:34:47.990725Z",
     "iopub.status.busy": "2025-08-04T06:34:47.990725Z",
     "iopub.status.idle": "2025-08-04T06:34:48.010760Z",
     "shell.execute_reply": "2025-08-04T06:34:48.009762Z",
     "shell.execute_reply.started": "2025-08-04T06:34:47.990725Z"
    }
   },
   "outputs": [],
   "source": [
    "import sqlite3\n",
    "tsla_stock_db = 'TSLA_Stock_Price_2019_2024'\n",
    "conn = sqlite3.connect(tsla_stock_db)\n",
    "c = conn.cursor()"
   ]
  },
  {
   "cell_type": "code",
   "execution_count": 34,
   "id": "65026368-5663-4069-bf2f-0985b7771bbc",
   "metadata": {
    "execution": {
     "iopub.execute_input": "2025-08-04T06:41:59.770488Z",
     "iopub.status.busy": "2025-08-04T06:41:59.769488Z",
     "iopub.status.idle": "2025-08-04T06:41:59.775527Z",
     "shell.execute_reply": "2025-08-04T06:41:59.774003Z",
     "shell.execute_reply.started": "2025-08-04T06:41:59.770488Z"
    }
   },
   "outputs": [],
   "source": [
    "c.execute('DROP TABLE IF EXISTS stockprice;')\n",
    "conn.commit()"
   ]
  },
  {
   "cell_type": "code",
   "execution_count": 35,
   "id": "e6c275d8-94c1-47f2-8229-247d0c07d12e",
   "metadata": {
    "execution": {
     "iopub.execute_input": "2025-08-04T06:42:02.929750Z",
     "iopub.status.busy": "2025-08-04T06:42:02.928750Z",
     "iopub.status.idle": "2025-08-04T06:42:02.958796Z",
     "shell.execute_reply": "2025-08-04T06:42:02.958796Z",
     "shell.execute_reply.started": "2025-08-04T06:42:02.929750Z"
    }
   },
   "outputs": [],
   "source": [
    "c.execute('CREATE TABLE IF NOT EXISTS stockprice (date TEXT PRIMARY KEY, open REAL, high REAL, low REAL, close REAL, volume INTEGER);')\n",
    "conn.commit()"
   ]
  },
  {
   "cell_type": "code",
   "execution_count": 37,
   "id": "7b0a6ca6-b822-4524-bfa5-ad46e3f43878",
   "metadata": {
    "execution": {
     "iopub.execute_input": "2025-08-04T06:47:17.352249Z",
     "iopub.status.busy": "2025-08-04T06:47:17.352249Z",
     "iopub.status.idle": "2025-08-04T06:47:17.375303Z",
     "shell.execute_reply": "2025-08-04T06:47:17.373801Z",
     "shell.execute_reply.started": "2025-08-04T06:47:17.352249Z"
    }
   },
   "outputs": [
    {
     "data": {
      "text/html": [
       "<div>\n",
       "<style scoped>\n",
       "    .dataframe tbody tr th:only-of-type {\n",
       "        vertical-align: middle;\n",
       "    }\n",
       "\n",
       "    .dataframe tbody tr th {\n",
       "        vertical-align: top;\n",
       "    }\n",
       "\n",
       "    .dataframe thead th {\n",
       "        text-align: right;\n",
       "    }\n",
       "</style>\n",
       "<table border=\"1\" class=\"dataframe\">\n",
       "  <thead>\n",
       "    <tr style=\"text-align: right;\">\n",
       "      <th></th>\n",
       "      <th>date</th>\n",
       "      <th>open</th>\n",
       "      <th>high</th>\n",
       "      <th>low</th>\n",
       "      <th>close</th>\n",
       "      <th>volume</th>\n",
       "    </tr>\n",
       "  </thead>\n",
       "  <tbody>\n",
       "    <tr>\n",
       "      <th>0</th>\n",
       "      <td>2018-12-31</td>\n",
       "      <td>22.5193</td>\n",
       "      <td>22.6139</td>\n",
       "      <td>21.6839</td>\n",
       "      <td>22.1866</td>\n",
       "      <td>6302332</td>\n",
       "    </tr>\n",
       "    <tr>\n",
       "      <th>1</th>\n",
       "      <td>2019-01-02</td>\n",
       "      <td>20.4066</td>\n",
       "      <td>21.0086</td>\n",
       "      <td>19.9199</td>\n",
       "      <td>20.6746</td>\n",
       "      <td>11658638</td>\n",
       "    </tr>\n",
       "    <tr>\n",
       "      <th>2</th>\n",
       "      <td>2019-01-03</td>\n",
       "      <td>20.4667</td>\n",
       "      <td>20.6267</td>\n",
       "      <td>19.8253</td>\n",
       "      <td>20.0240</td>\n",
       "      <td>6965198</td>\n",
       "    </tr>\n",
       "    <tr>\n",
       "      <th>3</th>\n",
       "      <td>2019-01-04</td>\n",
       "      <td>20.4000</td>\n",
       "      <td>21.2000</td>\n",
       "      <td>20.1820</td>\n",
       "      <td>21.1793</td>\n",
       "      <td>7394118</td>\n",
       "    </tr>\n",
       "    <tr>\n",
       "      <th>4</th>\n",
       "      <td>2019-01-07</td>\n",
       "      <td>21.4479</td>\n",
       "      <td>22.4493</td>\n",
       "      <td>21.1833</td>\n",
       "      <td>22.3306</td>\n",
       "      <td>7551218</td>\n",
       "    </tr>\n",
       "    <tr>\n",
       "      <th>...</th>\n",
       "      <td>...</td>\n",
       "      <td>...</td>\n",
       "      <td>...</td>\n",
       "      <td>...</td>\n",
       "      <td>...</td>\n",
       "      <td>...</td>\n",
       "    </tr>\n",
       "    <tr>\n",
       "      <th>1651</th>\n",
       "      <td>2025-07-28</td>\n",
       "      <td>318.4500</td>\n",
       "      <td>330.4900</td>\n",
       "      <td>315.6900</td>\n",
       "      <td>325.5900</td>\n",
       "      <td>112673797</td>\n",
       "    </tr>\n",
       "    <tr>\n",
       "      <th>1652</th>\n",
       "      <td>2025-07-29</td>\n",
       "      <td>325.5500</td>\n",
       "      <td>326.2500</td>\n",
       "      <td>318.2500</td>\n",
       "      <td>321.2000</td>\n",
       "      <td>87358867</td>\n",
       "    </tr>\n",
       "    <tr>\n",
       "      <th>1653</th>\n",
       "      <td>2025-07-30</td>\n",
       "      <td>322.1800</td>\n",
       "      <td>324.4500</td>\n",
       "      <td>311.6160</td>\n",
       "      <td>319.0400</td>\n",
       "      <td>83931938</td>\n",
       "    </tr>\n",
       "    <tr>\n",
       "      <th>1654</th>\n",
       "      <td>2025-07-31</td>\n",
       "      <td>319.6050</td>\n",
       "      <td>321.3700</td>\n",
       "      <td>306.1000</td>\n",
       "      <td>308.2700</td>\n",
       "      <td>85270919</td>\n",
       "    </tr>\n",
       "    <tr>\n",
       "      <th>1655</th>\n",
       "      <td>2025-08-01</td>\n",
       "      <td>306.2050</td>\n",
       "      <td>309.3100</td>\n",
       "      <td>297.8200</td>\n",
       "      <td>303.0000</td>\n",
       "      <td>86304734</td>\n",
       "    </tr>\n",
       "  </tbody>\n",
       "</table>\n",
       "<p>1656 rows × 6 columns</p>\n",
       "</div>"
      ],
      "text/plain": [
       "            date      open      high       low     close     volume\n",
       "0     2018-12-31   22.5193   22.6139   21.6839   22.1866    6302332\n",
       "1     2019-01-02   20.4066   21.0086   19.9199   20.6746   11658638\n",
       "2     2019-01-03   20.4667   20.6267   19.8253   20.0240    6965198\n",
       "3     2019-01-04   20.4000   21.2000   20.1820   21.1793    7394118\n",
       "4     2019-01-07   21.4479   22.4493   21.1833   22.3306    7551218\n",
       "...          ...       ...       ...       ...       ...        ...\n",
       "1651  2025-07-28  318.4500  330.4900  315.6900  325.5900  112673797\n",
       "1652  2025-07-29  325.5500  326.2500  318.2500  321.2000   87358867\n",
       "1653  2025-07-30  322.1800  324.4500  311.6160  319.0400   83931938\n",
       "1654  2025-07-31  319.6050  321.3700  306.1000  308.2700   85270919\n",
       "1655  2025-08-01  306.2050  309.3100  297.8200  303.0000   86304734\n",
       "\n",
       "[1656 rows x 6 columns]"
      ]
     },
     "execution_count": 37,
     "metadata": {},
     "output_type": "execute_result"
    }
   ],
   "source": [
    "macro_trends_df_2019_2024"
   ]
  },
  {
   "cell_type": "code",
   "execution_count": 38,
   "id": "a17c16f0-3782-4d81-924e-0944e937e7a0",
   "metadata": {
    "execution": {
     "iopub.execute_input": "2025-08-04T06:50:34.395224Z",
     "iopub.status.busy": "2025-08-04T06:50:34.393697Z",
     "iopub.status.idle": "2025-08-04T06:50:34.460767Z",
     "shell.execute_reply": "2025-08-04T06:50:34.460767Z",
     "shell.execute_reply.started": "2025-08-04T06:50:34.395224Z"
    }
   },
   "outputs": [
    {
     "data": {
      "text/plain": [
       "1656"
      ]
     },
     "execution_count": 38,
     "metadata": {},
     "output_type": "execute_result"
    }
   ],
   "source": [
    "macro_trends_df_2019_2024.to_sql(name='stockprice',con=conn,if_exists='replace',index=False)\n",
    "#conn.commit()"
   ]
  },
  {
   "cell_type": "markdown",
   "id": "3a46ca6e-76fd-4f60-bcb4-870933f1bbb5",
   "metadata": {},
   "source": [
    "## Verify that data is saved to RDBMS and can be retrieved with SQL queries"
   ]
  },
  {
   "cell_type": "code",
   "execution_count": 40,
   "id": "4de45d1f-28d5-4d84-949e-641c4c1e1ae0",
   "metadata": {
    "execution": {
     "iopub.execute_input": "2025-08-04T06:58:32.649669Z",
     "iopub.status.busy": "2025-08-04T06:58:32.648674Z",
     "iopub.status.idle": "2025-08-04T06:58:32.679243Z",
     "shell.execute_reply": "2025-08-04T06:58:32.677242Z",
     "shell.execute_reply.started": "2025-08-04T06:58:32.649669Z"
    }
   },
   "outputs": [
    {
     "data": {
      "text/html": [
       "<div>\n",
       "<style scoped>\n",
       "    .dataframe tbody tr th:only-of-type {\n",
       "        vertical-align: middle;\n",
       "    }\n",
       "\n",
       "    .dataframe tbody tr th {\n",
       "        vertical-align: top;\n",
       "    }\n",
       "\n",
       "    .dataframe thead th {\n",
       "        text-align: right;\n",
       "    }\n",
       "</style>\n",
       "<table border=\"1\" class=\"dataframe\">\n",
       "  <thead>\n",
       "    <tr style=\"text-align: right;\">\n",
       "      <th></th>\n",
       "      <th>index</th>\n",
       "      <th>date</th>\n",
       "      <th>open</th>\n",
       "      <th>high</th>\n",
       "      <th>low</th>\n",
       "      <th>close</th>\n",
       "      <th>volume</th>\n",
       "    </tr>\n",
       "  </thead>\n",
       "  <tbody>\n",
       "    <tr>\n",
       "      <th>0</th>\n",
       "      <td>1</td>\n",
       "      <td>2019-01-02</td>\n",
       "      <td>20.4066</td>\n",
       "      <td>21.0086</td>\n",
       "      <td>19.9199</td>\n",
       "      <td>20.6746</td>\n",
       "      <td>11658638</td>\n",
       "    </tr>\n",
       "    <tr>\n",
       "      <th>1</th>\n",
       "      <td>2</td>\n",
       "      <td>2019-01-03</td>\n",
       "      <td>20.4667</td>\n",
       "      <td>20.6267</td>\n",
       "      <td>19.8253</td>\n",
       "      <td>20.0240</td>\n",
       "      <td>6965198</td>\n",
       "    </tr>\n",
       "    <tr>\n",
       "      <th>2</th>\n",
       "      <td>3</td>\n",
       "      <td>2019-01-04</td>\n",
       "      <td>20.4000</td>\n",
       "      <td>21.2000</td>\n",
       "      <td>20.1820</td>\n",
       "      <td>21.1793</td>\n",
       "      <td>7394118</td>\n",
       "    </tr>\n",
       "    <tr>\n",
       "      <th>3</th>\n",
       "      <td>4</td>\n",
       "      <td>2019-01-07</td>\n",
       "      <td>21.4479</td>\n",
       "      <td>22.4493</td>\n",
       "      <td>21.1833</td>\n",
       "      <td>22.3306</td>\n",
       "      <td>7551218</td>\n",
       "    </tr>\n",
       "    <tr>\n",
       "      <th>4</th>\n",
       "      <td>5</td>\n",
       "      <td>2019-01-08</td>\n",
       "      <td>22.7973</td>\n",
       "      <td>22.9339</td>\n",
       "      <td>21.8013</td>\n",
       "      <td>22.3566</td>\n",
       "      <td>7008511</td>\n",
       "    </tr>\n",
       "    <tr>\n",
       "      <th>...</th>\n",
       "      <td>...</td>\n",
       "      <td>...</td>\n",
       "      <td>...</td>\n",
       "      <td>...</td>\n",
       "      <td>...</td>\n",
       "      <td>...</td>\n",
       "      <td>...</td>\n",
       "    </tr>\n",
       "    <tr>\n",
       "      <th>247</th>\n",
       "      <td>248</td>\n",
       "      <td>2019-12-24</td>\n",
       "      <td>27.8907</td>\n",
       "      <td>28.3647</td>\n",
       "      <td>27.5125</td>\n",
       "      <td>28.3500</td>\n",
       "      <td>8054735</td>\n",
       "    </tr>\n",
       "    <tr>\n",
       "      <th>248</th>\n",
       "      <td>249</td>\n",
       "      <td>2019-12-26</td>\n",
       "      <td>28.5273</td>\n",
       "      <td>28.8986</td>\n",
       "      <td>28.4233</td>\n",
       "      <td>28.7293</td>\n",
       "      <td>10648300</td>\n",
       "    </tr>\n",
       "    <tr>\n",
       "      <th>249</th>\n",
       "      <td>250</td>\n",
       "      <td>2019-12-27</td>\n",
       "      <td>29.0000</td>\n",
       "      <td>29.0207</td>\n",
       "      <td>28.4073</td>\n",
       "      <td>28.6920</td>\n",
       "      <td>9956844</td>\n",
       "    </tr>\n",
       "    <tr>\n",
       "      <th>250</th>\n",
       "      <td>251</td>\n",
       "      <td>2019-12-30</td>\n",
       "      <td>28.5859</td>\n",
       "      <td>28.5999</td>\n",
       "      <td>27.2839</td>\n",
       "      <td>27.6466</td>\n",
       "      <td>12601266</td>\n",
       "    </tr>\n",
       "    <tr>\n",
       "      <th>251</th>\n",
       "      <td>252</td>\n",
       "      <td>2019-12-31</td>\n",
       "      <td>26.9999</td>\n",
       "      <td>28.0859</td>\n",
       "      <td>26.8053</td>\n",
       "      <td>27.8886</td>\n",
       "      <td>10292456</td>\n",
       "    </tr>\n",
       "  </tbody>\n",
       "</table>\n",
       "<p>252 rows × 7 columns</p>\n",
       "</div>"
      ],
      "text/plain": [
       "     index        date     open     high      low    close    volume\n",
       "0        1  2019-01-02  20.4066  21.0086  19.9199  20.6746  11658638\n",
       "1        2  2019-01-03  20.4667  20.6267  19.8253  20.0240   6965198\n",
       "2        3  2019-01-04  20.4000  21.2000  20.1820  21.1793   7394118\n",
       "3        4  2019-01-07  21.4479  22.4493  21.1833  22.3306   7551218\n",
       "4        5  2019-01-08  22.7973  22.9339  21.8013  22.3566   7008511\n",
       "..     ...         ...      ...      ...      ...      ...       ...\n",
       "247    248  2019-12-24  27.8907  28.3647  27.5125  28.3500   8054735\n",
       "248    249  2019-12-26  28.5273  28.8986  28.4233  28.7293  10648300\n",
       "249    250  2019-12-27  29.0000  29.0207  28.4073  28.6920   9956844\n",
       "250    251  2019-12-30  28.5859  28.5999  27.2839  27.6466  12601266\n",
       "251    252  2019-12-31  26.9999  28.0859  26.8053  27.8886  10292456\n",
       "\n",
       "[252 rows x 7 columns]"
      ]
     },
     "execution_count": 40,
     "metadata": {},
     "output_type": "execute_result"
    }
   ],
   "source": [
    "query=\"\"\"\n",
    "    SELECT * \n",
    "    FROM stockprice\n",
    "    WHERE date LIKE '2019%'\n",
    "    \"\"\"\n",
    "tsla2019 = sql.read_sql(query, con=conn)\n",
    "tsla2019"
   ]
  },
  {
   "cell_type": "code",
   "execution_count": null,
   "id": "1f5b6423-1184-4fe5-ae2d-25cb8281110a",
   "metadata": {},
   "outputs": [],
   "source": []
  }
 ],
 "metadata": {
  "kernelspec": {
   "display_name": "Python 3 (ipykernel)",
   "language": "python",
   "name": "python3"
  },
  "language_info": {
   "codemirror_mode": {
    "name": "ipython",
    "version": 3
   },
   "file_extension": ".py",
   "mimetype": "text/x-python",
   "name": "python",
   "nbconvert_exporter": "python",
   "pygments_lexer": "ipython3",
   "version": "3.10.18"
  }
 },
 "nbformat": 4,
 "nbformat_minor": 5
}
